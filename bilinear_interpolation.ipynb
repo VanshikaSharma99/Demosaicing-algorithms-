{
  "nbformat": 4,
  "nbformat_minor": 0,
  "metadata": {
    "colab": {
      "name": "bilinear interpolation.ipynb",
      "provenance": [],
      "collapsed_sections": []
    },
    "kernelspec": {
      "name": "python3",
      "display_name": "Python 3"
    },
    "language_info": {
      "name": "python"
    }
  },
  "cells": [
    {
      "cell_type": "code",
      "metadata": {
        "id": "G7DDX2-Kiu6f"
      },
      "source": [
        "import cv2\n",
        "import glob as glob"
      ],
      "execution_count": null,
      "outputs": []
    },
    {
      "cell_type": "code",
      "metadata": {
        "id": "FUWrhAifi22q"
      },
      "source": [
        "import numpy.matlib\n",
        "import numpy as np\n",
        "from math import ceil\n",
        "import math\n",
        "from math import log10, sqrt\n",
        "from scipy.signal import convolve2d\n",
        "filter1=[[0,0.25,0],[0.25,1,0.25],[0,0.25,0]]\n",
        "filter2=[[0.25,0.5,0.25],[0.5,1,0.5],[0.25,0.5,0.25]]"
      ],
      "execution_count": null,
      "outputs": []
    },
    {
      "cell_type": "code",
      "metadata": {
        "id": "PBkK0DE65-st"
      },
      "source": [
        "images=[cv2.imread(img) for img in glob.glob(file path)]"
      ],
      "execution_count": null,
      "outputs": []
    },
    {
      "cell_type": "code",
      "metadata": {
        "id": "n_J587H4k8vy"
      },
      "source": [
        "import numpy as np\n",
        "for i in range(0,999):\n",
        "  m,n,p=images[i].shape\n",
        "  red=[[1,0],[0,0]]\n",
        "  blue=[[0,0],[0,1]]\n",
        "  green=[[0,1],[1,0]]\n",
        "  red=np.matlib.repmat(red,ceil(m/2),ceil(n/2))\n",
        "  red=red[0:m,0:n]\n",
        "  green=np.matlib.repmat(green,ceil(m/2),ceil(n/2))\n",
        "  green=green[0:m,0:n]\n",
        "  blue=np.matlib.repmat(blue,ceil(m/2),ceil(n/2))\n",
        "  blue=blue[0:m,0:n]\n",
        "  red_channel=red*images[i][:,:,0]\n",
        "  green_channel=green*images[i][:,:,1]\n",
        "  blue_channel=blue*images[i][:,:,2]\n",
        "  output=red_channel+green_channel+blue_channel\n",
        "  filter1=[[0,0.25,0],[0.25,1,0.25],[0,0.25,0]]\n",
        "  green_filter=convolve2d(green_channel,filter1,mode=\"same\")\n",
        "  filter2=[[0.25,0.5,0.25],[0.5,1,0.5],[0.25,0.5,0.25]]\n",
        "  red_filter1=convolve2d(red_channel,filter2,mode=\"same\")\n",
        "  blue_filter1=convolve2d(blue_channel,filter2,mode=\"same\")\n",
        "  out=np.zeros((m,n,p))\n",
        "  out[:,:,0]=red_filter1\n",
        "  out[:,:,1]=green_filter\n",
        "  out[:,:,2]=blue_filter1\n",
        "  cv2.imwrite(r\"/content/savedimages/\"+str(i)+\".jpg\",out)"
      ],
      "execution_count": null,
      "outputs": []
    },
    {
      "cell_type": "code",
      "metadata": {
        "colab": {
          "base_uri": "https://localhost:8080/"
        },
        "id": "OcBNFy5MqWhM",
        "outputId": "71658150-c2b5-4c63-cd5e-c4ed64218ea6"
      },
      "source": [
        "!zip -r /content/file.zip /content/savedimages"
      ],
      "execution_count": null,
      "outputs": [
        {
          "output_type": "stream",
          "text": [
            "\tzip warning: name not matched: /content/savedimages\n",
            "\n",
            "zip error: Nothing to do! (try: zip -r /content/file.zip . -i /content/savedimages)\n"
          ],
          "name": "stdout"
        }
      ]
    },
    {
      "cell_type": "code",
      "metadata": {
        "colab": {
          "base_uri": "https://localhost:8080/",
          "height": 17
        },
        "id": "mJky-EYKrPbl",
        "outputId": "089c0fe4-2ca8-4f91-af63-3de29253a267"
      },
      "source": [
        "from google.colab import files\n",
        "files.download(r\"/content/file.zip\")"
      ],
      "execution_count": null,
      "outputs": [
        {
          "output_type": "display_data",
          "data": {
            "application/javascript": [
              "\n",
              "    async function download(id, filename, size) {\n",
              "      if (!google.colab.kernel.accessAllowed) {\n",
              "        return;\n",
              "      }\n",
              "      const div = document.createElement('div');\n",
              "      const label = document.createElement('label');\n",
              "      label.textContent = `Downloading \"${filename}\": `;\n",
              "      div.appendChild(label);\n",
              "      const progress = document.createElement('progress');\n",
              "      progress.max = size;\n",
              "      div.appendChild(progress);\n",
              "      document.body.appendChild(div);\n",
              "\n",
              "      const buffers = [];\n",
              "      let downloaded = 0;\n",
              "\n",
              "      const channel = await google.colab.kernel.comms.open(id);\n",
              "      // Send a message to notify the kernel that we're ready.\n",
              "      channel.send({})\n",
              "\n",
              "      for await (const message of channel.messages) {\n",
              "        // Send a message to notify the kernel that we're ready.\n",
              "        channel.send({})\n",
              "        if (message.buffers) {\n",
              "          for (const buffer of message.buffers) {\n",
              "            buffers.push(buffer);\n",
              "            downloaded += buffer.byteLength;\n",
              "            progress.value = downloaded;\n",
              "          }\n",
              "        }\n",
              "      }\n",
              "      const blob = new Blob(buffers, {type: 'application/binary'});\n",
              "      const a = document.createElement('a');\n",
              "      a.href = window.URL.createObjectURL(blob);\n",
              "      a.download = filename;\n",
              "      div.appendChild(a);\n",
              "      a.click();\n",
              "      div.remove();\n",
              "    }\n",
              "  "
            ],
            "text/plain": [
              "<IPython.core.display.Javascript object>"
            ]
          },
          "metadata": {
            "tags": []
          }
        },
        {
          "output_type": "display_data",
          "data": {
            "application/javascript": [
              "download(\"download_290f5cbc-1b4d-4eb1-8633-928984d61f25\", \"file.zip\", 47612248)"
            ],
            "text/plain": [
              "<IPython.core.display.Javascript object>"
            ]
          },
          "metadata": {
            "tags": []
          }
        }
      ]
    },
    {
      "cell_type": "code",
      "metadata": {
        "id": "u1t4Ru-rMgog"
      },
      "source": [
        "import keras\n",
        "import tensorflow\n",
        "import matplotlib.pyplot as plt\n",
        "from keras.layers import Dense,GlobalAveragePooling2D\n",
        "from tensorflow.keras.applications import MobileNet\n",
        "from keras.models import Sequential\n",
        "from keras.optimizers import Adam\n",
        "from keras.preprocessing.image import ImageDataGenerator"
      ],
      "execution_count": null,
      "outputs": []
    },
    {
      "cell_type": "code",
      "metadata": {
        "colab": {
          "base_uri": "https://localhost:8080/"
        },
        "id": "mCuZYNYz1I-i",
        "outputId": "347aedf2-0a3a-4cd2-9399-b0be01a1e164"
      },
      "source": [
        "\n",
        "trdata=ImageDataGenerator()\n",
        "train_data= trdata.flow_from_directory(file path)\n",
        "tsdata=ImageDataGenerator()\n",
        "test_data=tsdata.flow_from_directory(file path)\n"
      ],
      "execution_count": null,
      "outputs": [
        {
          "output_type": "stream",
          "text": [
            "Found 3000 images belonging to 2 classes.\n",
            "Found 1018 images belonging to 2 classes.\n"
          ],
          "name": "stdout"
        }
      ]
    },
    {
      "cell_type": "code",
      "metadata": {
        "id": "-o_MleD4XaaG",
        "colab": {
          "base_uri": "https://localhost:8080/"
        },
        "outputId": "76a5edb7-7dca-4273-bb99-cd6300389bb2"
      },
      "source": [
        "base_model=MobileNet(weights='imagenet',include_top=False, input_shape=(224,224,3)) \n",
        "model=Sequential()\n",
        "model.add(base_model)\n",
        "model.add(GlobalAveragePooling2D())\n",
        "model.add(Dense(units=1024,activation=\"relu\"))\n",
        "model.add(Dense(units=512,activation=\"relu\"))\n",
        "model.add(Dense(units=2,activation=\"sigmoid\"))\n",
        "model.build(input_shape = (None, 224, 224, 3))\n"
      ],
      "execution_count": null,
      "outputs": [
        {
          "output_type": "stream",
          "text": [
            "Downloading data from https://storage.googleapis.com/tensorflow/keras-applications/mobilenet/mobilenet_1_0_224_tf_no_top.h5\n",
            "17227776/17225924 [==============================] - 0s 0us/step\n"
          ],
          "name": "stdout"
        }
      ]
    },
    {
      "cell_type": "code",
      "metadata": {
        "colab": {
          "base_uri": "https://localhost:8080/"
        },
        "id": "kNEG-451v5wB",
        "outputId": "3976fce1-9bad-47a2-b458-94bdec2ba168"
      },
      "source": [
        "model.summary()"
      ],
      "execution_count": null,
      "outputs": [
        {
          "output_type": "stream",
          "text": [
            "Model: \"sequential\"\n",
            "_________________________________________________________________\n",
            "Layer (type)                 Output Shape              Param #   \n",
            "=================================================================\n",
            "module_wrapper (ModuleWrappe (None, 7, 7, 1024)        3228864   \n",
            "_________________________________________________________________\n",
            "global_average_pooling2d (Gl (None, 1024)              0         \n",
            "_________________________________________________________________\n",
            "dense (Dense)                (None, 1024)              1049600   \n",
            "_________________________________________________________________\n",
            "dense_1 (Dense)              (None, 512)               524800    \n",
            "_________________________________________________________________\n",
            "dense_2 (Dense)              (None, 2)                 1026      \n",
            "=================================================================\n",
            "Total params: 4,804,290\n",
            "Trainable params: 4,782,402\n",
            "Non-trainable params: 21,888\n",
            "_________________________________________________________________\n"
          ],
          "name": "stdout"
        }
      ]
    },
    {
      "cell_type": "code",
      "metadata": {
        "id": "O3L4iBytYNIb"
      },
      "source": [
        "model.compile(optimizer='Adam',loss='binary_crossentropy',metrics=['accuracy'])"
      ],
      "execution_count": null,
      "outputs": []
    },
    {
      "cell_type": "code",
      "metadata": {
        "colab": {
          "base_uri": "https://localhost:8080/"
        },
        "id": "65ZhLYM3NLHZ",
        "outputId": "9fdad1cf-18b8-4fd2-c83e-5ed8bb422578"
      },
      "source": [
        "from keras.callbacks import ModelCheckpoint, EarlyStopping\n",
        "checkpoint = ModelCheckpoint (\"drive/MyDrive/bilinear.h5\", monitor='val_acc', verbose=1, save_best_only=True, save_weights_only=True, mode='auto')\n",
        "early = EarlyStopping(monitor='val_acc', min_delta=0, patience=20, verbose=1, mode='auto')"
      ],
      "execution_count": null,
      "outputs": [
        {
          "output_type": "stream",
          "text": [
            "WARNING:tensorflow:`period` argument is deprecated. Please use `save_freq` to specify the frequency in number of batches seen.\n"
          ],
          "name": "stdout"
        }
      ]
    },
    {
      "cell_type": "code",
      "metadata": {
        "id": "6nDiorLXY2mz",
        "colab": {
          "base_uri": "https://localhost:8080/"
        },
        "outputId": "1a00cf7f-1199-444f-cb7c-03d0592e0e7b"
      },
      "source": [
        "import numpy as np\n",
        "hist = model.fit(train_data,validation_data=test_data,epochs=100,verbose=1,batch_size=64)"
      ],
      "execution_count": null,
      "outputs": [
        {
          "output_type": "stream",
          "text": [
            "Epoch 1/2\n",
            "94/94 [==============================] - 1098s 11s/step - loss: 0.2326 - accuracy: 0.9155 - val_loss: 0.7088 - val_accuracy: 0.8477\n",
            "Epoch 2/2\n",
            "94/94 [==============================] - 786s 8s/step - loss: 0.0528 - accuracy: 0.9782 - val_loss: 0.5621 - val_accuracy: 0.8556\n"
          ],
          "name": "stdout"
        }
      ]
    },
    {
      "cell_type": "code",
      "metadata": {
        "colab": {
          "base_uri": "https://localhost:8080/"
        },
        "id": "I5JkYIxpIQMk",
        "outputId": "1ec7901a-5c33-4941-d950-e6d39c57fe01"
      },
      "source": [
        "print(hist.history.keys())"
      ],
      "execution_count": null,
      "outputs": [
        {
          "output_type": "stream",
          "text": [
            "dict_keys(['loss', 'accuracy', 'val_loss', 'val_accuracy'])\n"
          ],
          "name": "stdout"
        }
      ]
    },
    {
      "cell_type": "code",
      "metadata": {
        "colab": {
          "base_uri": "https://localhost:8080/",
          "height": 283
        },
        "id": "8ACivg89PukL",
        "outputId": "c49a3d83-6c21-47a0-fced-6fbe2604d530"
      },
      "source": [
        "plt.plot(hist.history[\"accuracy\"])\n",
        "plt.plot(hist.history[\"val_loss\"])\n",
        "plt.plot(hist.history[\"loss\"])\n",
        "plt.plot(hist.history[\"val_accuracy\"])\n",
        "plt.axis([0,2,0,5])\n",
        "plt.xlabel(\"epoch\")\n",
        "plt.ylabel(\"loss\")\n",
        "plt.legend([\"accuracy\",\"val_loss\",\"loss\",\"val_acc\"])\n",
        "plt.show()"
      ],
      "execution_count": null,
      "outputs": [
        {
          "output_type": "display_data",
          "data": {
            "image/png": "[encoded data removed]",
            "text/plain": [
              "<Figure size 432x288 with 1 Axes>"
            ]
          },
          "metadata": {
            "tags": [],
            "needs_background": "light"
          }
        }
      ]
    },
    {
      "cell_type": "code",
      "metadata": {
        "id": "IEf_5UWUP4An"
      },
      "source": [
        ""
      ],
      "execution_count": null,
      "outputs": []
    }
  ]
}